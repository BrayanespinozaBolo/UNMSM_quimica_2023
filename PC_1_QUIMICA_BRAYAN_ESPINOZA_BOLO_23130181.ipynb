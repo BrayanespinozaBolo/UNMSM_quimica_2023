{
  "nbformat": 4,
  "nbformat_minor": 0,
  "metadata": {
    "colab": {
      "provenance": [],
      "authorship_tag": "ABX9TyM/2VNHgJl7iBdbJ6u/uKSR",
      "include_colab_link": true
    },
    "kernelspec": {
      "name": "python3",
      "display_name": "Python 3"
    },
    "language_info": {
      "name": "python"
    },
    "widgets": {
      "application/vnd.jupyter.widget-state+json": {
        "83a463343fcd4baebf0a52be87e39f7b": {
          "model_module": "faerun-notebook",
          "model_name": "SmilesDrawerModel",
          "model_module_version": "^0.1.5",
          "state": {
            "_dom_classes": [],
            "_model_module": "faerun-notebook",
            "_model_module_version": "^0.1.5",
            "_model_name": "SmilesDrawerModel",
            "_view_count": null,
            "_view_module": "faerun-notebook",
            "_view_module_version": "^0.1.5",
            "_view_name": "SmilesDrawerView",
            "background": "#1e1e1e",
            "border": true,
            "layout": "IPY_MODEL_5da2afa3d4b74b688afcf33e07ece88c",
            "options": {
              "scale": 1.25
            },
            "output": "svg",
            "theme": "dark",
            "value": [
              [
                "Rxn",
                "C(C1C(C(C(C(O1)O)O)O)O)O.O=O>>C(=O)=O.O"
              ]
            ]
          }
        },
        "5da2afa3d4b74b688afcf33e07ece88c": {
          "model_module": "@jupyter-widgets/base",
          "model_name": "LayoutModel",
          "model_module_version": "1.2.0",
          "state": {
            "_model_module": "@jupyter-widgets/base",
            "_model_module_version": "1.2.0",
            "_model_name": "LayoutModel",
            "_view_count": null,
            "_view_module": "@jupyter-widgets/base",
            "_view_module_version": "1.2.0",
            "_view_name": "LayoutView",
            "align_content": null,
            "align_items": null,
            "align_self": null,
            "border": null,
            "bottom": null,
            "display": null,
            "flex": null,
            "flex_flow": null,
            "grid_area": null,
            "grid_auto_columns": null,
            "grid_auto_flow": null,
            "grid_auto_rows": null,
            "grid_column": null,
            "grid_gap": null,
            "grid_row": null,
            "grid_template_areas": null,
            "grid_template_columns": null,
            "grid_template_rows": null,
            "height": null,
            "justify_content": null,
            "justify_items": null,
            "left": null,
            "margin": null,
            "max_height": null,
            "max_width": null,
            "min_height": null,
            "min_width": null,
            "object_fit": null,
            "object_position": null,
            "order": null,
            "overflow": null,
            "overflow_x": null,
            "overflow_y": null,
            "padding": null,
            "right": null,
            "top": null,
            "visibility": null,
            "width": null
          }
        }
      }
    }
  },
  "cells": [
    {
      "cell_type": "markdown",
      "metadata": {
        "id": "view-in-github",
        "colab_type": "text"
      },
      "source": [
        "<a href=\"https://colab.research.google.com/github/BrayanespinozaBolo/UNMSM_quimica_2023/blob/main/PC_1_QUIMICA_BRAYAN_ESPINOZA_BOLO_23130181.ipynb\" target=\"_parent\"><img src=\"https://colab.research.google.com/assets/colab-badge.svg\" alt=\"Open In Colab\"/></a>"
      ]
    },
    {
      "cell_type": "code",
      "execution_count": null,
      "metadata": {
        "id": "UqDUsXnz5eh3"
      },
      "outputs": [],
      "source": []
    },
    {
      "cell_type": "markdown",
      "source": [
        "$$\\Large \\textit{UNMSM | Química}$$\n",
        "$$\\large \\textbf{PC Nº1 | Materia y clasificación}$$\n",
        "\n",
        "_Profesor: Jesus Alvarado Huayhuaz_"
      ],
      "metadata": {
        "id": "sDJAjbaQOj4x"
      }
    },
    {
      "cell_type": "code",
      "source": [
        "from google.colab import drive\n",
        "drive.mount('/content/drive')"
      ],
      "metadata": {
        "id": "wjZhiMJ_5J2w"
      },
      "execution_count": null,
      "outputs": []
    },
    {
      "cell_type": "markdown",
      "source": [
        "Todas las indicaciones para la presentación de la práctica son explicadas en clase y brindadas en el material de enunciado de preguntas en formato PDF."
      ],
      "metadata": {
        "id": "_DsTzWLoP7Fy"
      }
    },
    {
      "cell_type": "markdown",
      "source": [
        "## Pregunta 1: Sobre el ABC de python (4 puntos)"
      ],
      "metadata": {
        "id": "obD7c2igOD6t"
      }
    },
    {
      "cell_type": "markdown",
      "source": [
        "Durante la semana de revisión del material \"ABC de python\", reflexiona sobre qué conceptos aprendiste con claridad y cuáles consideras los más desafiantes. A continuación resuelve los siguiente ejercicios, puedes ayudarte del material en http://bit.ly/3YKICSZ."
      ],
      "metadata": {
        "id": "emt93S7dL7QH"
      }
    },
    {
      "cell_type": "code",
      "source": [
        "# Imprime la versión de python que usas y las palabras reservadas de python para esa versión."
      ],
      "metadata": {
        "id": "6mJvqMN0LTU8"
      },
      "execution_count": null,
      "outputs": []
    },
    {
      "cell_type": "code",
      "source": [
        "!python --version"
      ],
      "metadata": {
        "colab": {
          "base_uri": "https://localhost:8080/"
        },
        "id": "9tGkdlZ95lfD",
        "outputId": "cdc4a605-2676-4ba9-dcbe-42ee7f62f2c7"
      },
      "execution_count": null,
      "outputs": [
        {
          "output_type": "stream",
          "name": "stdout",
          "text": [
            "Python 3.10.12\n"
          ]
        }
      ]
    },
    {
      "cell_type": "code",
      "source": [
        "# Crea una matriz de 3x3 e imprime la suma de los elementos en su diagonal (traza)."
      ],
      "metadata": {
        "id": "MxDzGypdLTXh"
      },
      "execution_count": null,
      "outputs": []
    },
    {
      "cell_type": "code",
      "source": [
        "matriz=[\n",
        "    [7,8,4],\n",
        "    [9,7,3],\n",
        "    [5,4,7],\n",
        "    ]\n",
        "suma_diagonal = matriz[0][0] + matriz[1][1] + matriz[2][2]\n",
        "print(\"Suma de la diagonal:\",suma_diagonal)"
      ],
      "metadata": {
        "colab": {
          "base_uri": "https://localhost:8080/"
        },
        "id": "UjlQU0wA5uhZ",
        "outputId": "cfd4ab99-aa3b-49be-d2c4-eebfdf9b26ee"
      },
      "execution_count": null,
      "outputs": [
        {
          "output_type": "stream",
          "name": "stdout",
          "text": [
            "Suma de la diagonal: 21\n"
          ]
        }
      ]
    },
    {
      "cell_type": "code",
      "source": [
        "# Guarda como variable la masa atómica de los elementos C, H y O, e imprime la masa molecular del etanol."
      ],
      "metadata": {
        "id": "MyhNX7JmLTSe"
      },
      "execution_count": null,
      "outputs": []
    },
    {
      "cell_type": "code",
      "source": [
        "masa_atomica_C=12\n",
        "masa_atomica_H=1\n",
        "masa_atomica_O=16\n",
        "#formula del etanol C2H5OH\n",
        "masa_molecular_etanol=(masa_atomica_C*2)+(masa_atomica_H*5)+(masa_atomica_O)+(masa_atomica_H)\n",
        "print(masa_molecular_etanol)"
      ],
      "metadata": {
        "colab": {
          "base_uri": "https://localhost:8080/"
        },
        "id": "AiAZC6F47NrJ",
        "outputId": "e1a21158-25d1-44da-9433-8aecc89a2332"
      },
      "execution_count": null,
      "outputs": [
        {
          "output_type": "stream",
          "name": "stdout",
          "text": [
            "46\n"
          ]
        }
      ]
    },
    {
      "cell_type": "code",
      "source": [
        "# Busca la temperatura de fusión en Celsius de 5 metales y guárdalos en una lista. Imprime las temperaturas en Kelvin"
      ],
      "metadata": {
        "id": "NCOnJ0FwgLLc"
      },
      "execution_count": null,
      "outputs": []
    },
    {
      "cell_type": "code",
      "source": [
        "metales = [\n",
        "           (\"oro\", 1.064),\n",
        "           (\"potasio\", 62.5),\n",
        "           (\"cobalto\", 1495),\n",
        "           (\"Iodo\",113.7),\n",
        "           (\"cromo\", 1857),\n",
        "]\n",
        "\n",
        "def celsius_a_kelvin(celsius):\n",
        "    return celsius + 273.15\n",
        "\n",
        "print(\"Temperaturas de fusión:\")\n",
        "for metal, celsius in metales:\n",
        "    kelvin = celsius_a_kelvin(celsius)\n",
        "    print(f\"{metal}: {kelvin:.2f} K\")\n"
      ],
      "metadata": {
        "colab": {
          "base_uri": "https://localhost:8080/"
        },
        "id": "NLaz7bIx8ViE",
        "outputId": "184cf798-dabf-4f3b-9dfa-cf7d6712d2d0"
      },
      "execution_count": null,
      "outputs": [
        {
          "output_type": "stream",
          "name": "stdout",
          "text": [
            "Temperaturas de fusión:\n",
            "oro: 274.21 K\n",
            "potasio: 335.65 K\n",
            "cobalto: 1768.15 K\n",
            "Iodo: 386.85 K\n",
            "cromo: 2130.15 K\n"
          ]
        }
      ]
    },
    {
      "cell_type": "markdown",
      "source": [
        "## Pregunta 2: Operaciones (4 puntos)"
      ],
      "metadata": {
        "id": "epzOadagLfPi"
      }
    },
    {
      "cell_type": "markdown",
      "source": [
        "Escribe un programa que lea repetidamente elementos químicos en español hasta que el usuario introduzca “fin”. Una vez se haya introducido “fin”, muestra por pantalla (o sea imprime) el total de elementos ingresados. Si el usuario introduce cualquier otra cosa que no sea un elemento químico, detecta su fallo usando try y except, muestra un mensaje de error y pasa al siguiente elemento."
      ],
      "metadata": {
        "id": "MbAEOGPsjOWZ"
      }
    },
    {
      "cell_type": "code",
      "source": [
        "elementos_quimicos = {\n",
        "    \"hidrogeno\": \"H\", \"magnesio\": \"Mg\", \"mercurio\": \"Hg\", \"carbono\": \"C\",\n",
        "    \"fluor\": \"F\", \"aluminio\": \"Al\", \"plata\": \"Ag\", \"cobalto\": \"Co\", \"sodio\": \"Na\"\n",
        "    # ... otros elementos ...\n",
        "}\n",
        "\n",
        "# Contador de elementos ingresados:\n",
        "total_elementos = 0\n",
        "\n",
        "while True:\n",
        "    entrada = input(\"Ingresa un elemento químico (o 'fin' para terminar): \").lower()\n",
        "\n",
        "    if entrada == \"fin\":\n",
        "        break  # Terminar el ciclo si se ingresa \"fin\"\n",
        "\n",
        "    try:\n",
        "        simbolo = elementos_quimicos[entrada]\n",
        "        total_elementos += 1\n",
        "        print(f\"Elemento válido: {entrada.capitalize()} ({simbolo})\")\n",
        "    except KeyError:\n",
        "        print(\"Error: Elemento no es reconocido. Introduce un elemento válido.\")\n",
        "\n",
        "# Imprimiendo el total de elementos ingresados:h\n",
        "print(\"Total de elementos ingresados:\", total_elementos)"
      ],
      "metadata": {
        "id": "gJGX0p5QLetj",
        "colab": {
          "base_uri": "https://localhost:8080/"
        },
        "outputId": "871097d7-c949-4375-d6b1-de403a8e21c0"
      },
      "execution_count": null,
      "outputs": [
        {
          "output_type": "stream",
          "name": "stdout",
          "text": [
            "Ingresa un elemento químico (o 'fin' para terminar): hidrogeno\n",
            "Elemento válido: Hidrogeno (H)\n",
            "Ingresa un elemento químico (o 'fin' para terminar): magnesio\n",
            "Elemento válido: Magnesio (Mg)\n",
            "Ingresa un elemento químico (o 'fin' para terminar): mercurio\n",
            "Elemento válido: Mercurio (Hg)\n",
            "Ingresa un elemento químico (o 'fin' para terminar): carbono\n",
            "Elemento válido: Carbono (C)\n",
            "Ingresa un elemento químico (o 'fin' para terminar): fluor\n",
            "Elemento válido: Fluor (F)\n",
            "Ingresa un elemento químico (o 'fin' para terminar): aluminio\n",
            "Elemento válido: Aluminio (Al)\n",
            "Ingresa un elemento químico (o 'fin' para terminar): plata\n",
            "Elemento válido: Plata (Ag)\n",
            "Ingresa un elemento químico (o 'fin' para terminar): cobalto\n",
            "Elemento válido: Cobalto (Co)\n",
            "Ingresa un elemento químico (o 'fin' para terminar): sodio\n",
            "Elemento válido: Sodio (Na)\n",
            "Ingresa un elemento químico (o 'fin' para terminar): fib\n",
            "Error: Elemento no es reconocido. Introduce un elemento válido.\n",
            "Ingresa un elemento químico (o 'fin' para terminar): fin\n",
            "Total de elementos ingresados: 9\n"
          ]
        }
      ]
    },
    {
      "cell_type": "markdown",
      "source": [
        "# Pregunta 3: Conservación de la masa (4 puntos)"
      ],
      "metadata": {
        "id": "8gxSHpD3LZsh"
      }
    },
    {
      "cell_type": "markdown",
      "source": [
        "### Código necesario para generar la imagen"
      ],
      "metadata": {
        "id": "mMV9c3hDl7KL"
      }
    },
    {
      "cell_type": "code",
      "source": [
        "!pip install faerun-notebook==0.1.5b0\n",
        "\n",
        "import ipywidgets as widgets\n",
        "from faerun_notebook import SmilesDrawer\n",
        "from google.colab import output\n",
        "output.enable_custom_widget_manager()"
      ],
      "metadata": {
        "id": "JgF8Ohtbky65"
      },
      "execution_count": null,
      "outputs": []
    },
    {
      "cell_type": "markdown",
      "source": [
        "### Reacción química"
      ],
      "metadata": {
        "id": "5sLC10D_oSrV"
      }
    },
    {
      "cell_type": "markdown",
      "source": [
        "Demuestra cómo se cumple la conservación de la masa en la siguiente reacción química. Sugerencia: hacer un balance estequiométrico y luego emplear la masa molecular de reactivos y productos."
      ],
      "metadata": {
        "id": "OVRhAzaVmD86"
      }
    },
    {
      "cell_type": "code",
      "source": [
        "SmilesDrawer(value=[(\"Rxn\", \"C(C1C(C(C(C(O1)O)O)O)O)O.O=O>>C(=O)=O.O\")], theme='dark', background=\"#1e1e1e\", options={'scale': 1.25})"
      ],
      "metadata": {
        "colab": {
          "base_uri": "https://localhost:8080/",
          "height": 290,
          "referenced_widgets": [
            "83a463343fcd4baebf0a52be87e39f7b",
            "5da2afa3d4b74b688afcf33e07ece88c"
          ]
        },
        "id": "CC0mAXWmnYyN",
        "outputId": "ed108fe9-28db-4b2f-dd75-c3ef203d46c1"
      },
      "execution_count": null,
      "outputs": [
        {
          "output_type": "display_data",
          "data": {
            "text/plain": [
              "SmilesDrawer(background='#1e1e1e', options={'scale': 1.25}, theme='dark', value=[('Rxn', 'C(C1C(C(C(C(O1)O)O)O…"
            ],
            "application/vnd.jupyter.widget-view+json": {
              "version_major": 2,
              "version_minor": 0,
              "model_id": "83a463343fcd4baebf0a52be87e39f7b"
            }
          },
          "metadata": {
            "application/vnd.jupyter.widget-view+json": {
              "colab": {
                "custom_widget_manager": {
                  "url": "https://ssl.gstatic.com/colaboratory-static/widgets/colab-cdn-widget-manager/b3e629b1971e1542/manager.min.js"
                }
              }
            }
          }
        }
      ]
    },
    {
      "cell_type": "code",
      "source": [
        "#nos dan C(C1C(C(C(C(O1)O)O)O)O)O.O=O>>C(=O)=O.O\n",
        "#formula molecular: C6H12O6 + 6O2 → 6CO2 + 6H2O\n",
        "#Reactivos masa molecular:\n",
        "Carbono_R= 12\n",
        "Hidrogeno_R= 1\n",
        "Oxigeno_R= 16\n",
        "\n",
        "reactivos_masa_total=((Carbono_R*6)+(Hidrogeno_R*12)+(Oxigeno_R*6)+(6*Oxigeno_R*2))\n",
        "print(\"Masa totales Reactivos:\",reactivos_masa_total)\n",
        "\n",
        "#productos masa molecular:\n",
        "\n",
        "Carbono_P= 12\n",
        "Hidrogeno_P= 1\n",
        "Oxigeno_P= 16\n",
        "productos_masa_total= (6*Carbono_P*1) + (6*Oxigeno_P*2) + (6*Hidrogeno_P*2) + (6*Oxigeno_P*1)\n",
        "print(\"Masa totales productos:\", productos_masa_total)\n",
        "\n",
        "if abs(reactivos_masa_total-productos_masa_total) < 0.1:\n",
        "   print(\"La conservación de la masa cumple.\")\n",
        "else:\n",
        "   print(\"La conservación de la masa no se cumple.\")"
      ],
      "metadata": {
        "colab": {
          "base_uri": "https://localhost:8080/"
        },
        "id": "KQHt_VAKCQ4Y",
        "outputId": "0c819221-3b4f-45a3-e4ad-506212954f36"
      },
      "execution_count": null,
      "outputs": [
        {
          "output_type": "stream",
          "name": "stdout",
          "text": [
            "Masa totales Reactivos: 372\n",
            "Masa totales productos: 372\n",
            "La conservación de la masa cumple.\n"
          ]
        }
      ]
    },
    {
      "cell_type": "markdown",
      "source": [
        "## Pregunta 4: Notación científica (4 puntos)"
      ],
      "metadata": {
        "id": "Rh-nAUiKhJNB"
      }
    },
    {
      "cell_type": "markdown",
      "source": [
        "Imprime las siguientes operaciones según la notación científica:\n",
        "\n",
        "(1) $1.321 \\times 10^{-4} + 8.5 \\times 10^{-2}$\n",
        "\n",
        "(2) $1.71 \\times 10^{3} - 2.01 \\times 10^{2}\\$\n",
        "\n",
        "(3) $(7.4 \\times 10^5)(7.2 \\times 10^4)$\n",
        "\n",
        "(4) $(7.4 \\times 10^5)/(7.2 \\times 10^4)$"
      ],
      "metadata": {
        "id": "NIkI45Xdqqnt"
      }
    },
    {
      "cell_type": "code",
      "source": [
        "\n",
        "problema_1= (1.321*10**-4) + (8.5*10**-2)\n",
        "print (problema_1)\n",
        "problema_2=(1.71*10**3) - (2.01*10**2)\n",
        "print (problema_2)\n",
        "problema_3=(7.4*10**5) * (7.2*10**4)\n",
        "print (problema_3)\n",
        "problema_4=(7.4*10**5) / (7.2*10**4)\n",
        "print (problema_4)\n"
      ],
      "metadata": {
        "colab": {
          "base_uri": "https://localhost:8080/"
        },
        "id": "L9tmTPur8kXi",
        "outputId": "0e722fc4-fc77-4fa7-bd00-1a360de510c0"
      },
      "execution_count": null,
      "outputs": [
        {
          "output_type": "stream",
          "name": "stdout",
          "text": [
            "0.0851321\n",
            "1509.0\n",
            "53280000000.0\n",
            "10.277777777777779\n"
          ]
        }
      ]
    },
    {
      "cell_type": "markdown",
      "source": [
        "## Pregunta 5: Método científico (4 puntos)"
      ],
      "metadata": {
        "id": "CuzCcXJghR14"
      }
    },
    {
      "cell_type": "markdown",
      "source": [
        "Artículo: https://bit.ly/3surZ1W\n",
        "Leer el siguiente artículo y explica cómo es aplicado el método científico. Emplea como máximo 300 palabras."
      ],
      "metadata": {
        "id": "WngRSR-Rhmx1"
      }
    },
    {
      "cell_type": "markdown",
      "source": [
        " el método científico se aplicó de la siguiente manera: inicialmente, se observaron afirmaciones de que el LK-99 era un superconductor a temperatura ambiente. Se formuló la pregunta de si estas afirmaciones eran verdaderas. Los investigadores llevaron a cabo investigaciones y experimentos para recopilar evidencia, incluyendo la observación de levitación de la muestra de LK-99 sobre un imán y caídas abruptas en la resistividad eléctrica.\n",
        "\n",
        "Se propuso una hipótesis inicial de que el LK-99 podría ser un superconductor a temperatura ambiente. Sin embargo, a medida que se acumulaba más evidencia, diferentes equipos de investigación ofrecieron explicaciones alternativas para los fenómenos observados. Finalmente, se realizaron experimentos adicionales y se llevaron a cabo análisis estructurales que indicaron que el LK-99 no era un superconductor, sino un aislante, y que las propiedades observadas podían explicarse por otros efectos, como el ferromagnetismo"
      ],
      "metadata": {
        "id": "o5ojq0K_M_vk"
      }
    }
  ]
}